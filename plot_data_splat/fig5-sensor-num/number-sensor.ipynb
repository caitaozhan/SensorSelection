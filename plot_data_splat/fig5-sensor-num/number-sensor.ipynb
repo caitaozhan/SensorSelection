{
 "cells": [
  {
   "cell_type": "code",
   "execution_count": 1,
   "metadata": {},
   "outputs": [],
   "source": [
    "import random\n",
    "import numpy as np\n",
    "import seaborn as sns\n",
    "import math\n",
    "import os\n",
    "import time\n",
    "import matplotlib.pyplot as plt\n",
    "import pandas as pd\n",
    "from scipy.stats import multivariate_normal\n",
    "from scipy.stats import norm, entropy\n",
    "\n",
    "%matplotlib inline"
   ]
  },
  {
   "cell_type": "code",
   "execution_count": 55,
   "metadata": {},
   "outputs": [
    {
     "data": {
      "text/html": [
       "<div>\n",
       "<style scoped>\n",
       "    .dataframe tbody tr th:only-of-type {\n",
       "        vertical-align: middle;\n",
       "    }\n",
       "\n",
       "    .dataframe tbody tr th {\n",
       "        vertical-align: top;\n",
       "    }\n",
       "\n",
       "    .dataframe thead th {\n",
       "        text-align: right;\n",
       "    }\n",
       "</style>\n",
       "<table border=\"1\" class=\"dataframe\">\n",
       "  <thead>\n",
       "    <tr style=\"text-align: right;\">\n",
       "      <th></th>\n",
       "      <th>0</th>\n",
       "      <th>1</th>\n",
       "      <th>2</th>\n",
       "    </tr>\n",
       "  </thead>\n",
       "  <tbody>\n",
       "    <tr>\n",
       "      <th>0</th>\n",
       "      <td>18.66</td>\n",
       "      <td>0.62</td>\n",
       "      <td>0.048</td>\n",
       "    </tr>\n",
       "    <tr>\n",
       "      <th>1</th>\n",
       "      <td>15.94</td>\n",
       "      <td>0.41</td>\n",
       "      <td>0.097</td>\n",
       "    </tr>\n",
       "    <tr>\n",
       "      <th>2</th>\n",
       "      <td>13.40</td>\n",
       "      <td>0.20</td>\n",
       "      <td>0.230</td>\n",
       "    </tr>\n",
       "    <tr>\n",
       "      <th>3</th>\n",
       "      <td>12.93</td>\n",
       "      <td>0.16</td>\n",
       "      <td>0.325</td>\n",
       "    </tr>\n",
       "    <tr>\n",
       "      <th>4</th>\n",
       "      <td>11.42</td>\n",
       "      <td>0.11</td>\n",
       "      <td>0.420</td>\n",
       "    </tr>\n",
       "  </tbody>\n",
       "</table>\n",
       "</div>"
      ],
      "text/plain": [
       "       0     1      2\n",
       "0  18.66  0.62  0.048\n",
       "1  15.94  0.41  0.097\n",
       "2  13.40  0.20  0.230\n",
       "3  12.93  0.16  0.325\n",
       "4  11.42  0.11  0.420"
      ]
     },
     "execution_count": 55,
     "metadata": {},
     "output_type": "execute_result"
    }
   ],
   "source": [
    "num = [100, 200, 300, 400]\n",
    "df_cluster = pd.read_csv('cluster-{}'.format(50), header=None)\n",
    "for n in num:\n",
    "    df = pd.read_csv('cluster-{}'.format(n), header=None)\n",
    "    df_cluster = pd.concat([df_cluster, df], ignore_index=True)\n",
    "\n",
    "df_cluster"
   ]
  },
  {
   "cell_type": "code",
   "execution_count": 61,
   "metadata": {},
   "outputs": [
    {
     "data": {
      "text/html": [
       "<div>\n",
       "<style scoped>\n",
       "    .dataframe tbody tr th:only-of-type {\n",
       "        vertical-align: middle;\n",
       "    }\n",
       "\n",
       "    .dataframe tbody tr th {\n",
       "        vertical-align: top;\n",
       "    }\n",
       "\n",
       "    .dataframe thead th {\n",
       "        text-align: right;\n",
       "    }\n",
       "</style>\n",
       "<table border=\"1\" class=\"dataframe\">\n",
       "  <thead>\n",
       "    <tr style=\"text-align: right;\">\n",
       "      <th></th>\n",
       "      <th>0</th>\n",
       "      <th>1</th>\n",
       "      <th>2</th>\n",
       "    </tr>\n",
       "  </thead>\n",
       "  <tbody>\n",
       "    <tr>\n",
       "      <th>0</th>\n",
       "      <td>13.79</td>\n",
       "      <td>0.780</td>\n",
       "      <td>0.000</td>\n",
       "    </tr>\n",
       "    <tr>\n",
       "      <th>1</th>\n",
       "      <td>6.43</td>\n",
       "      <td>0.470</td>\n",
       "      <td>0.000</td>\n",
       "    </tr>\n",
       "    <tr>\n",
       "      <th>2</th>\n",
       "      <td>1.47</td>\n",
       "      <td>0.055</td>\n",
       "      <td>0.015</td>\n",
       "    </tr>\n",
       "    <tr>\n",
       "      <th>3</th>\n",
       "      <td>0.00</td>\n",
       "      <td>0.000</td>\n",
       "      <td>0.011</td>\n",
       "    </tr>\n",
       "    <tr>\n",
       "      <th>4</th>\n",
       "      <td>0.00</td>\n",
       "      <td>0.000</td>\n",
       "      <td>0.023</td>\n",
       "    </tr>\n",
       "  </tbody>\n",
       "</table>\n",
       "</div>"
      ],
      "text/plain": [
       "       0      1      2\n",
       "0  13.79  0.780  0.000\n",
       "1   6.43  0.470  0.000\n",
       "2   1.47  0.055  0.015\n",
       "3   0.00  0.000  0.011\n",
       "4   0.00  0.000  0.023"
      ]
     },
     "execution_count": 61,
     "metadata": {},
     "output_type": "execute_result"
    }
   ],
   "source": [
    "num = [100, 200, 300, 400]\n",
    "df_ours = pd.read_csv('ours-{}'.format(50), header=None)\n",
    "for n in num:\n",
    "    df = pd.read_csv('ours-{}'.format(n), header=None)\n",
    "    df_ours = pd.concat([df_ours, df], ignore_index=True)\n",
    "\n",
    "df_ours"
   ]
  },
  {
   "cell_type": "code",
   "execution_count": 57,
   "metadata": {},
   "outputs": [
    {
     "data": {
      "text/html": [
       "<div>\n",
       "<style scoped>\n",
       "    .dataframe tbody tr th:only-of-type {\n",
       "        vertical-align: middle;\n",
       "    }\n",
       "\n",
       "    .dataframe tbody tr th {\n",
       "        vertical-align: top;\n",
       "    }\n",
       "\n",
       "    .dataframe thead th {\n",
       "        text-align: right;\n",
       "    }\n",
       "</style>\n",
       "<table border=\"1\" class=\"dataframe\">\n",
       "  <thead>\n",
       "    <tr style=\"text-align: right;\">\n",
       "      <th></th>\n",
       "      <th>0</th>\n",
       "      <th>1</th>\n",
       "      <th>2</th>\n",
       "    </tr>\n",
       "  </thead>\n",
       "  <tbody>\n",
       "    <tr>\n",
       "      <th>0</th>\n",
       "      <td>18.370000</td>\n",
       "      <td>0.500000</td>\n",
       "      <td>0.070000</td>\n",
       "    </tr>\n",
       "    <tr>\n",
       "      <th>1</th>\n",
       "      <td>17.530000</td>\n",
       "      <td>0.339000</td>\n",
       "      <td>0.147000</td>\n",
       "    </tr>\n",
       "    <tr>\n",
       "      <th>2</th>\n",
       "      <td>18.157373</td>\n",
       "      <td>0.338816</td>\n",
       "      <td>0.137216</td>\n",
       "    </tr>\n",
       "    <tr>\n",
       "      <th>3</th>\n",
       "      <td>18.416634</td>\n",
       "      <td>0.278499</td>\n",
       "      <td>0.192713</td>\n",
       "    </tr>\n",
       "    <tr>\n",
       "      <th>4</th>\n",
       "      <td>17.972134</td>\n",
       "      <td>0.256420</td>\n",
       "      <td>0.211081</td>\n",
       "    </tr>\n",
       "  </tbody>\n",
       "</table>\n",
       "</div>"
      ],
      "text/plain": [
       "           0         1         2\n",
       "0  18.370000  0.500000  0.070000\n",
       "1  17.530000  0.339000  0.147000\n",
       "2  18.157373  0.338816  0.137216\n",
       "3  18.416634  0.278499  0.192713\n",
       "4  17.972134  0.256420  0.211081"
      ]
     },
     "execution_count": 57,
     "metadata": {},
     "output_type": "execute_result"
    }
   ],
   "source": [
    "num = [100, 200, 300, 400]\n",
    "df_splot = pd.read_csv('splot-{}'.format(50), header=None)\n",
    "for n in num:\n",
    "    df = pd.read_csv('splot-{}'.format(n), header=None)\n",
    "    df_splot = pd.concat([df_splot, df], ignore_index=True)\n",
    "\n",
    "df_splot"
   ]
  },
  {
   "cell_type": "markdown",
   "metadata": {},
   "source": [
    "# 1. Error"
   ]
  },
  {
   "cell_type": "code",
   "execution_count": 58,
   "metadata": {},
   "outputs": [
    {
     "data": {
      "image/png": "[encoded data removed]",
      "text/plain": [
       "<Figure size 720x432 with 1 Axes>"
      ]
     },
     "metadata": {},
     "output_type": "display_data"
    }
   ],
   "source": [
    "N = 5\n",
    "ours    = 25*np.array(df_ours.iloc[:, 0])\n",
    "cluster = 25*np.array(df_cluster.iloc[:, 0])\n",
    "splot   = 25*np.array(df_splot.iloc[:,0])\n",
    "\n",
    "ind = np.arange(N) \n",
    "width = 0.3       \n",
    "plt.figure(figsize=(10, 6))\n",
    "plt.bar(ind, ours, width, label='Ours')\n",
    "plt.bar(ind + width, cluster, width, label='Clustering')\n",
    "plt.bar(ind + width*2, splot, width, label='SPLOT')\n",
    "\n",
    "plt.xlabel('Total # of Sensors')\n",
    "plt.ylabel('Error (m)')\n",
    "\n",
    "plt.xticks(ind + width, ('50', '100', '200', '300', '400'))\n",
    "plt.legend(loc='best')\n",
    "plt.show()"
   ]
  },
  {
   "cell_type": "markdown",
   "metadata": {},
   "source": [
    "# 2. Miss Rate"
   ]
  },
  {
   "cell_type": "code",
   "execution_count": 59,
   "metadata": {},
   "outputs": [
    {
     "data": {
      "image/png": "[encoded data removed]",
      "text/plain": [
       "<Figure size 720x432 with 1 Axes>"
      ]
     },
     "metadata": {},
     "output_type": "display_data"
    }
   ],
   "source": [
    "N = 5\n",
    "ours    = np.array(df_ours.iloc[:, 1])\n",
    "cluster = np.array(df_cluster.iloc[:, 1])\n",
    "splot   = np.array(df_splot.iloc[:, 1])\n",
    "\n",
    "ind = np.arange(N) \n",
    "width = 0.3       \n",
    "plt.figure(figsize=(10, 6))\n",
    "plt.bar(ind, ours, width, label='Ours')\n",
    "plt.bar(ind + width, cluster, width, label='Clustering')\n",
    "plt.bar(ind + width*2, splot, width, label='SPLOT')\n",
    "\n",
    "plt.xlabel('Total # of Sensors')\n",
    "plt.ylabel('Miss Rate')\n",
    "\n",
    "plt.xticks(ind + width, ('50', '100', '200', '300', '400'))\n",
    "plt.legend(loc='best')\n",
    "plt.show()"
   ]
  },
  {
   "cell_type": "markdown",
   "metadata": {},
   "source": [
    "# False alarm"
   ]
  },
  {
   "cell_type": "code",
   "execution_count": 62,
   "metadata": {},
   "outputs": [
    {
     "data": {
      "image/png": "[encoded data removed]",
      "text/plain": [
       "<Figure size 720x432 with 1 Axes>"
      ]
     },
     "metadata": {},
     "output_type": "display_data"
    }
   ],
   "source": [
    "N = 5\n",
    "ours    = np.array(df_ours.iloc[:, 2])\n",
    "cluster = np.array(df_cluster.iloc[:, 2])\n",
    "splot   = np.array(df_splot.iloc[:, 2])\n",
    "\n",
    "ind = np.arange(N) \n",
    "width = 0.3       \n",
    "plt.figure(figsize=(10, 6))\n",
    "plt.bar(ind, ours, width, label='Ours')\n",
    "plt.bar(ind + width, cluster, width, label='Clustering')\n",
    "plt.bar(ind + width*2, splot, width, label='SPLOT')\n",
    "\n",
    "plt.xlabel('Total # of Sensors')\n",
    "plt.ylabel('Miss Rate')\n",
    "\n",
    "plt.xticks(ind + width, ('50', '100', '200', '300', '400'))\n",
    "plt.legend(loc='best')\n",
    "plt.show()"
   ]
  },
  {
   "cell_type": "code",
   "execution_count": null,
   "metadata": {},
   "outputs": [],
   "source": []
  }
 ],
 "metadata": {
  "kernelspec": {
   "display_name": "Python 3",
   "language": "python",
   "name": "python3"
  },
  "language_info": {
   "codemirror_mode": {
    "name": "ipython",
    "version": 3
   },
   "file_extension": ".py",
   "mimetype": "text/x-python",
   "name": "python",
   "nbconvert_exporter": "python",
   "pygments_lexer": "ipython3",
   "version": "3.6.5"
  }
 },
 "nbformat": 4,
 "nbformat_minor": 2
}
