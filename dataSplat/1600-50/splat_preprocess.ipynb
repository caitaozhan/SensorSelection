{
 "cells": [
  {
   "cell_type": "markdown",
   "metadata": {},
   "source": [
    "# Generate Sensors"
   ]
  },
  {
   "cell_type": "code",
   "execution_count": 1,
   "metadata": {},
   "outputs": [],
   "source": [
    "import random\n",
    "import pandas as pd\n",
    "import numpy as np"
   ]
  },
  {
   "cell_type": "code",
   "execution_count": 3,
   "metadata": {},
   "outputs": [],
   "source": [
    "grid_len = 40\n",
    "all_locations = []\n",
    "for i in range(grid_len):\n",
    "    for j in range(grid_len):\n",
    "        all_locations.append((i, j))\n",
    "\n",
    "num_sensor = 50\n",
    "sensors = random.sample(all_locations, num_sensor)"
   ]
  },
  {
   "cell_type": "code",
   "execution_count": 4,
   "metadata": {
    "scrolled": true
   },
   "outputs": [
    {
     "data": {
      "text/plain": [
       "[(3, 36),\n",
       " (18, 5),\n",
       " (38, 17),\n",
       " (22, 33),\n",
       " (37, 0),\n",
       " (20, 34),\n",
       " (25, 27),\n",
       " (37, 38),\n",
       " (7, 32),\n",
       " (2, 27),\n",
       " (0, 34),\n",
       " (4, 27),\n",
       " (2, 4),\n",
       " (28, 21),\n",
       " (39, 5),\n",
       " (29, 22),\n",
       " (2, 5),\n",
       " (38, 11),\n",
       " (24, 7),\n",
       " (17, 30),\n",
       " (38, 2),\n",
       " (22, 30),\n",
       " (2, 24),\n",
       " (24, 34),\n",
       " (38, 3),\n",
       " (6, 29),\n",
       " (6, 34),\n",
       " (17, 34),\n",
       " (2, 22),\n",
       " (17, 20),\n",
       " (20, 9),\n",
       " (39, 13),\n",
       " (14, 24),\n",
       " (25, 24),\n",
       " (29, 16),\n",
       " (26, 19),\n",
       " (10, 15),\n",
       " (33, 23),\n",
       " (37, 26),\n",
       " (34, 27),\n",
       " (0, 31),\n",
       " (35, 30),\n",
       " (12, 37),\n",
       " (24, 6),\n",
       " (20, 16),\n",
       " (27, 36),\n",
       " (36, 31),\n",
       " (18, 23),\n",
       " (2, 17),\n",
       " (22, 4)]"
      ]
     },
     "execution_count": 4,
     "metadata": {},
     "output_type": "execute_result"
    }
   ],
   "source": [
    "sensors"
   ]
  },
  {
   "cell_type": "code",
   "execution_count": 5,
   "metadata": {},
   "outputs": [],
   "source": [
    "ipsn = pd.read_csv('sensor_from_ipsn', delimiter=' ', header=None)"
   ]
  },
  {
   "cell_type": "code",
   "execution_count": 6,
   "metadata": {},
   "outputs": [],
   "source": [
    "stds = ipsn[2]"
   ]
  },
  {
   "cell_type": "code",
   "execution_count": 7,
   "metadata": {},
   "outputs": [
    {
     "data": {
      "text/plain": [
       "array([0.31961585, 0.41428093, 0.41543918, 0.42026762, 0.45186382,\n",
       "       0.51815505, 0.6606852 , 0.7535492 , 1.04563019, 1.12004327,\n",
       "       1.43466257, 1.52048246, 1.83061047, 1.85433775, 1.86264196,\n",
       "       2.02253412, 2.34168195, 2.57483698])"
      ]
     },
     "execution_count": 7,
     "metadata": {},
     "output_type": "execute_result"
    }
   ],
   "source": [
    "all_stds = np.unique(stds.values)\n",
    "all_stds"
   ]
  },
  {
   "cell_type": "code",
   "execution_count": 8,
   "metadata": {},
   "outputs": [],
   "source": [
    "std_costs = []\n",
    "for sen in sensors:\n",
    "    std_costs.append((random.choice(all_stds), 1))"
   ]
  },
  {
   "cell_type": "code",
   "execution_count": 9,
   "metadata": {
    "scrolled": true
   },
   "outputs": [
    {
     "name": "stdout",
     "output_type": "stream",
     "text": [
      "(0.4142809311761813, 1)\n",
      "(0.4154391840750011, 1)\n",
      "(2.341681953932289, 1)\n",
      "(1.045630193236076, 1)\n",
      "(1.4346625681183898, 1)\n",
      "(0.4518638216531902, 1)\n",
      "(2.341681953932289, 1)\n",
      "(0.7535492018748609, 1)\n",
      "(0.5181550542899774, 1)\n",
      "(2.341681953932289, 1)\n",
      "(0.4142809311761813, 1)\n",
      "(1.045630193236076, 1)\n",
      "(0.4154391840750011, 1)\n",
      "(1.8543377546204012, 1)\n",
      "(1.8306104706098087, 1)\n",
      "(1.045630193236076, 1)\n",
      "(0.4142809311761813, 1)\n",
      "(2.574836982024013, 1)\n",
      "(0.5181550542899774, 1)\n",
      "(0.4202676150502109, 1)\n",
      "(1.8543377546204012, 1)\n",
      "(1.4346625681183898, 1)\n",
      "(0.31961585322723524, 1)\n",
      "(2.341681953932289, 1)\n",
      "(0.5181550542899774, 1)\n",
      "(0.6606851953374354, 1)\n",
      "(2.341681953932289, 1)\n",
      "(0.4142809311761813, 1)\n",
      "(0.4518638216531902, 1)\n",
      "(0.4202676150502109, 1)\n",
      "(1.045630193236076, 1)\n",
      "(0.6606851953374354, 1)\n",
      "(0.4142809311761813, 1)\n",
      "(2.574836982024013, 1)\n",
      "(2.574836982024013, 1)\n",
      "(1.1200432714506303, 1)\n",
      "(0.4518638216531902, 1)\n",
      "(0.31961585322723524, 1)\n",
      "(2.341681953932289, 1)\n",
      "(2.574836982024013, 1)\n",
      "(0.31961585322723524, 1)\n",
      "(0.4142809311761813, 1)\n",
      "(1.4346625681183898, 1)\n",
      "(0.31961585322723524, 1)\n",
      "(0.4518638216531902, 1)\n",
      "(1.8306104706098087, 1)\n",
      "(0.6606851953374354, 1)\n",
      "(0.4518638216531902, 1)\n",
      "(0.5181550542899774, 1)\n",
      "(1.045630193236076, 1)\n"
     ]
    }
   ],
   "source": [
    "for std_cost in std_costs:\n",
    "    print(std_cost)"
   ]
  },
  {
   "cell_type": "code",
   "execution_count": 10,
   "metadata": {},
   "outputs": [
    {
     "data": {
      "text/plain": [
       "50"
      ]
     },
     "execution_count": 10,
     "metadata": {},
     "output_type": "execute_result"
    }
   ],
   "source": [
    "len(std_costs)"
   ]
  },
  {
   "cell_type": "code",
   "execution_count": 11,
   "metadata": {},
   "outputs": [],
   "source": [
    "with open('sensors', 'w') as f:\n",
    "    for index, sensor in enumerate(sensors):\n",
    "        #print(index, sensor)\n",
    "        f.write('{} {} {} {}\\n'.format(sensor[0], sensor[1], std_costs[index][0], std_costs[index][1]))"
   ]
  },
  {
   "cell_type": "code",
   "execution_count": 13,
   "metadata": {},
   "outputs": [],
   "source": [
    "grid_len = 50\n",
    "with open('cov', 'w') as f:\n",
    "    cov = np.zeros((grid_len, grid_len))\n",
    "    for i in range(grid_len):\n",
    "        for j in range(grid_len):\n",
    "            if i == j:\n",
    "                cov[i, j] = std_costs[i][0] ** 2\n",
    "            f.write('{} '.format(cov[i, j]))\n",
    "        f.write('\\n')"
   ]
  },
  {
   "cell_type": "code",
   "execution_count": 14,
   "metadata": {},
   "outputs": [],
   "source": [
    "cov = pd.read_csv('cov', delimiter=' ', header=None)"
   ]
  },
  {
   "cell_type": "markdown",
   "metadata": {},
   "source": [
    "# Read/Generate Hypothesis"
   ]
  },
  {
   "cell_type": "code",
   "execution_count": 2,
   "metadata": {},
   "outputs": [],
   "source": [
    "sensors = []\n",
    "std_costs = []\n",
    "with open('sensors', 'r') as f:\n",
    "    lines = f.readlines()\n",
    "    for line in lines:\n",
    "        line = line.split()\n",
    "        sensors.append((int(line[0]), int(line[1])))\n",
    "        std_costs.append((float(line[2]), int(line[3])))"
   ]
  },
  {
   "cell_type": "code",
   "execution_count": 3,
   "metadata": {
    "scrolled": true
   },
   "outputs": [
    {
     "name": "stdout",
     "output_type": "stream",
     "text": [
      "10 20 30 40 50 60 70 80 90 100 110 120 130 140 150 160 170 180 190 200 210 220 230 240 250 260 270 280 290 300 310 320 330 340 350 360 370 380 390 400 410 420 430 440 450 460 470 480 490 500 510 520 530 540 550 560 570 580 590 600 610 620 630 640 650 660 670 680 690 700 710 720 730 740 750 760 770 780 790 800 810 820 830 840 850 860 870 880 890 900 910 920 930 940 950 960 970 980 990 1000 1010 1020 1030 1040 1050 1060 1070 1080 1090 1100 1110 1120 1130 1140 1150 1160 1170 1180 1190 1200 1210 1220 1230 1240 1250 1260 1270 1280 1290 1300 1310 1320 1330 1340 1350 1360 1370 1380 1390 1400 1410 1420 1430 1440 1450 1460 1470 1480 1490 1500 1510 1520 1530 1540 1550 1560 1570 1580 1590 1600 "
     ]
    }
   ],
   "source": [
    "grid_len = 40\n",
    "hypo_template = 'tx_{}_pathloss.txt'\n",
    "hypo = None\n",
    "hypothesis_file = open('hypothesis-25' ,'w')\n",
    "for i in range(1, 1601):\n",
    "    if i%10 == 0:\n",
    "        print(i, end=' ')\n",
    "    hypo = pd.read_csv(hypo_template.format(i), delimiter=' ', header=None)\n",
    "    trans_x = (i-1)//grid_len\n",
    "    trans_y = (i-1)%grid_len\n",
    "    for index, sensor in enumerate(sensors):\n",
    "        sen_x = sensor[0]\n",
    "        sen_y = sensor[1]\n",
    "        std = std_costs[index][0]\n",
    "        mean = 25 - hypo.iloc[sen_y, sen_x]  # cellular tower power - pathloss\n",
    "        #mean = mean - (-80)                  # -80 is the threshold of noise\n",
    "        #mean = mean if mean>=0 else 0\n",
    "        print(trans_x, trans_y, sen_x, sen_y, mean, std, file=hypothesis_file)\n",
    "hypothesis_file.close()"
   ]
  },
  {
   "cell_type": "code",
   "execution_count": 17,
   "metadata": {},
   "outputs": [
    {
     "name": "stdout",
     "output_type": "stream",
     "text": [
      "3 36 0.4142809311761813\n",
      "18 5 0.4154391840750011\n",
      "38 17 2.341681953932289\n",
      "22 33 1.045630193236076\n",
      "37 0 1.4346625681183898\n",
      "20 34 0.4518638216531902\n",
      "25 27 2.341681953932289\n",
      "37 38 0.7535492018748609\n",
      "7 32 0.5181550542899774\n",
      "2 27 2.341681953932289\n",
      "0 34 0.4142809311761813\n",
      "4 27 1.045630193236076\n",
      "2 4 0.4154391840750011\n",
      "28 21 1.8543377546204012\n",
      "39 5 1.8306104706098087\n",
      "29 22 1.045630193236076\n",
      "2 5 0.4142809311761813\n",
      "38 11 2.574836982024013\n",
      "24 7 0.5181550542899774\n",
      "17 30 0.4202676150502109\n",
      "38 2 1.8543377546204012\n",
      "22 30 1.4346625681183898\n",
      "2 24 0.31961585322723524\n",
      "24 34 2.341681953932289\n",
      "38 3 0.5181550542899774\n",
      "6 29 0.6606851953374354\n",
      "6 34 2.341681953932289\n",
      "17 34 0.4142809311761813\n",
      "2 22 0.4518638216531902\n",
      "17 20 0.4202676150502109\n",
      "20 9 1.045630193236076\n",
      "39 13 0.6606851953374354\n",
      "14 24 0.4142809311761813\n",
      "25 24 2.574836982024013\n",
      "29 16 2.574836982024013\n",
      "26 19 1.1200432714506303\n",
      "10 15 0.4518638216531902\n",
      "33 23 0.31961585322723524\n",
      "37 26 2.341681953932289\n",
      "34 27 2.574836982024013\n",
      "0 31 0.31961585322723524\n",
      "35 30 0.4142809311761813\n",
      "12 37 1.4346625681183898\n",
      "24 6 0.31961585322723524\n",
      "20 16 0.4518638216531902\n",
      "27 36 1.8306104706098087\n",
      "36 31 0.6606851953374354\n",
      "18 23 0.4518638216531902\n",
      "2 17 0.5181550542899774\n",
      "22 4 1.045630193236076\n"
     ]
    }
   ],
   "source": [
    "for index, sensor in enumerate(sensors):\n",
    "    sen_x = sensor[0]\n",
    "    sen_y = sensor[1]\n",
    "    std = std_costs[index][0]\n",
    "    print(sen_x, sen_y, std)"
   ]
  },
  {
   "cell_type": "code",
   "execution_count": 116,
   "metadata": {},
   "outputs": [],
   "source": [
    "hypo = pd.read_csv(hypo_template.format(915), delimiter=' ', header=None)\n",
    "mins = hypo.min()"
   ]
  },
  {
   "cell_type": "code",
   "execution_count": 117,
   "metadata": {},
   "outputs": [
    {
     "data": {
      "text/plain": [
       "0     97.5600\n",
       "1     94.7695\n",
       "2     96.4900\n",
       "3     96.3507\n",
       "4     96.8732\n",
       "5     49.3408\n",
       "6     98.2700\n",
       "7     90.7868\n",
       "8     93.9082\n",
       "9     92.6682\n",
       "10    90.8453\n",
       "11    88.6187\n",
       "12    95.2255\n",
       "13    95.4291\n",
       "14    96.7130\n",
       "15    95.1119\n",
       "16    97.5905\n",
       "17    91.1103\n",
       "18    85.1468\n",
       "19    85.1360\n",
       "20    90.1803\n",
       "21    84.5977\n",
       "22    85.1483\n",
       "23    91.1830\n",
       "24    93.3240\n",
       "25    91.0806\n",
       "26    89.4251\n",
       "27    91.3939\n",
       "28    90.9400\n",
       "29    89.6000\n",
       "30    84.6337\n",
       "31    91.6574\n",
       "32    95.0335\n",
       "33    93.1200\n",
       "34    97.0251\n",
       "35    98.4388\n",
       "36    97.8863\n",
       "37    99.6256\n",
       "38    98.5696\n",
       "39    97.2400\n",
       "dtype: float64"
      ]
     },
     "execution_count": 117,
     "metadata": {},
     "output_type": "execute_result"
    }
   ],
   "source": [
    "mins"
   ]
  },
  {
   "cell_type": "code",
   "execution_count": 91,
   "metadata": {},
   "outputs": [],
   "source": [
    "minn = mins.min()"
   ]
  },
  {
   "cell_type": "code",
   "execution_count": 92,
   "metadata": {},
   "outputs": [
    {
     "data": {
      "text/plain": [
       "10.204"
      ]
     },
     "execution_count": 92,
     "metadata": {},
     "output_type": "execute_result"
    }
   ],
   "source": [
    "minn"
   ]
  },
  {
   "cell_type": "code",
   "execution_count": 94,
   "metadata": {},
   "outputs": [
    {
     "data": {
      "text/plain": [
       "10.204"
      ]
     },
     "execution_count": 94,
     "metadata": {},
     "output_type": "execute_result"
    }
   ],
   "source": [
    "hypo.min().min()"
   ]
  },
  {
   "cell_type": "code",
   "execution_count": 1,
   "metadata": {},
   "outputs": [],
   "source": [
    "new = [2.933786630630493, \n",
    "1.9918718338012695,\n",
    "1.834803819656372,\n",
    "1.8639681339263916,\n",
    "1.3858282566070557,\n",
    "1.7248563766479492,\n",
    "0.9724910259246826,\n",
    "1.293905258178711, \n",
    "1.4297847747802734,\n",
    "0.9389913082122803]"
   ]
  },
  {
   "cell_type": "code",
   "execution_count": 2,
   "metadata": {},
   "outputs": [
    {
     "data": {
      "text/plain": [
       "16.37028741836548"
      ]
     },
     "execution_count": 2,
     "metadata": {},
     "output_type": "execute_result"
    }
   ],
   "source": [
    "sum(new)"
   ]
  },
  {
   "cell_type": "code",
   "execution_count": 3,
   "metadata": {},
   "outputs": [],
   "source": [
    "old = [8.751231908798218, \n",
    "8.620571851730347, \n",
    "8.523092269897461, \n",
    "6.856140613555908,\n",
    "5.982236862182617, \n",
    "7.074853897094727, \n",
    "4.863311529159546, \n",
    "6.1589367389678955,\n",
    "3.816636323928833, \n",
    "4.0881195068359375]"
   ]
  },
  {
   "cell_type": "code",
   "execution_count": 4,
   "metadata": {},
   "outputs": [
    {
     "data": {
      "text/plain": [
       "64.73513150215149"
      ]
     },
     "execution_count": 4,
     "metadata": {},
     "output_type": "execute_result"
    }
   ],
   "source": [
    "sum(old)"
   ]
  },
  {
   "cell_type": "code",
   "execution_count": null,
   "metadata": {},
   "outputs": [],
   "source": []
  }
 ],
 "metadata": {
  "kernelspec": {
   "display_name": "Python 3",
   "language": "python",
   "name": "python3"
  },
  "language_info": {
   "codemirror_mode": {
    "name": "ipython",
    "version": 3
   },
   "file_extension": ".py",
   "mimetype": "text/x-python",
   "name": "python",
   "nbconvert_exporter": "python",
   "pygments_lexer": "ipython3",
   "version": "3.6.5"
  }
 },
 "nbformat": 4,
 "nbformat_minor": 2
}
