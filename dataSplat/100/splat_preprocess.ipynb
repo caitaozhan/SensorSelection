{
 "cells": [
  {
   "cell_type": "code",
   "execution_count": 2,
   "metadata": {},
   "outputs": [],
   "source": [
    "import random\n",
    "import pandas as pd\n",
    "import numpy as np"
   ]
  },
  {
   "cell_type": "code",
   "execution_count": 330,
   "metadata": {},
   "outputs": [],
   "source": [
    "sensor_file        = 'sensors10'\n",
    "cov_file               = 'cov10'\n",
    "hypothesis_file = 'hypothesis10'"
   ]
  },
  {
   "cell_type": "markdown",
   "metadata": {},
   "source": [
    "# Generate Sensors"
   ]
  },
  {
   "cell_type": "code",
   "execution_count": 331,
   "metadata": {
    "scrolled": true
   },
   "outputs": [
    {
     "data": {
      "text/plain": [
       "[(7, 3),\n",
       " (8, 5),\n",
       " (7, 9),\n",
       " (1, 3),\n",
       " (4, 3),\n",
       " (7, 8),\n",
       " (8, 3),\n",
       " (0, 7),\n",
       " (8, 0),\n",
       " (7, 7),\n",
       " (7, 5),\n",
       " (9, 4),\n",
       " (0, 0),\n",
       " (1, 8),\n",
       " (1, 1),\n",
       " (0, 4),\n",
       " (6, 6),\n",
       " (5, 3),\n",
       " (3, 8),\n",
       " (5, 6)]"
      ]
     },
     "execution_count": 331,
     "metadata": {},
     "output_type": "execute_result"
    }
   ],
   "source": [
    "grid_len = 10\n",
    "all_locations = []\n",
    "for i in range(grid_len):\n",
    "    for j in range(grid_len):\n",
    "        all_locations.append((i, j))\n",
    "\n",
    "num_sensor = 20\n",
    "sensors = random.sample(all_locations, num_sensor)\n",
    "sensors"
   ]
  },
  {
   "cell_type": "code",
   "execution_count": 332,
   "metadata": {},
   "outputs": [
    {
     "data": {
      "text/plain": [
       "array([0.31961585, 0.41428093, 0.41543918, 0.42026762, 0.45186382,\n",
       "       0.51815505, 0.6606852 , 0.7535492 , 1.04563019, 1.12004327,\n",
       "       1.43466257, 1.52048246, 1.83061047, 1.85433775, 1.86264196,\n",
       "       2.02253412, 2.34168195, 2.57483698])"
      ]
     },
     "execution_count": 332,
     "metadata": {},
     "output_type": "execute_result"
    }
   ],
   "source": [
    "ipsn = pd.read_csv('sensor_from_ipsn', delimiter=' ', header=None)\n",
    "stds = ipsn[2]\n",
    "all_stds = np.unique(stds.values)\n",
    "all_stds"
   ]
  },
  {
   "cell_type": "code",
   "execution_count": 333,
   "metadata": {},
   "outputs": [
    {
     "name": "stdout",
     "output_type": "stream",
     "text": [
      "(1.8626419592629413, 1)\n",
      "(0.31961585322723524, 1)\n",
      "(1.8306104706098087, 1)\n",
      "(2.341681953932289, 1)\n",
      "(1.8306104706098087, 1)\n",
      "(1.1200432714506303, 1)\n",
      "(0.4202676150502109, 1)\n",
      "(2.02253412315468, 1)\n",
      "(0.4142809311761813, 1)\n",
      "(2.574836982024013, 1)\n",
      "(1.045630193236076, 1)\n",
      "(1.045630193236076, 1)\n",
      "(2.574836982024013, 1)\n",
      "(0.4202676150502109, 1)\n",
      "(1.1200432714506303, 1)\n",
      "(1.1200432714506303, 1)\n",
      "(1.4346625681183898, 1)\n",
      "(0.4202676150502109, 1)\n",
      "(0.5181550542899774, 1)\n",
      "(1.8626419592629413, 1)\n"
     ]
    }
   ],
   "source": [
    "std_costs = []\n",
    "for sen in sensors:\n",
    "    std_costs.append((random.choice(all_stds), 1)) # homogeneous\n",
    "    \n",
    "for std_cost in std_costs:\n",
    "    print(std_cost)"
   ]
  },
  {
   "cell_type": "code",
   "execution_count": 334,
   "metadata": {},
   "outputs": [],
   "source": [
    "with open(sensor_file, 'w') as f:\n",
    "    for index, sensor in enumerate(sensors):\n",
    "        #print(index, sensor)\n",
    "        f.write('{} {} {} {}\\n'.format(sensor[0], sensor[1], std_costs[index][0], std_costs[index][1]))"
   ]
  },
  {
   "cell_type": "markdown",
   "metadata": {},
   "source": [
    "# Generate Covariance"
   ]
  },
  {
   "cell_type": "code",
   "execution_count": 335,
   "metadata": {},
   "outputs": [],
   "source": [
    "with open(cov_file, 'w') as f:\n",
    "    grid_len = 20   # the number of sensors\n",
    "    cov = np.zeros((grid_len, grid_len))\n",
    "    for i in range(grid_len):\n",
    "        for j in range(grid_len):\n",
    "            if i == j:\n",
    "                cov[i, j] = std_costs[i][0] ** 2\n",
    "            f.write('{} '.format(cov[i, j]))\n",
    "        f.write('\\n')"
   ]
  },
  {
   "cell_type": "markdown",
   "metadata": {},
   "source": [
    "# Generate Hypothesis"
   ]
  },
  {
   "cell_type": "markdown",
   "metadata": {},
   "source": [
    "#### Frist, deal with latitute and longtitue and SPLAT software"
   ]
  },
  {
   "cell_type": "code",
   "execution_count": 336,
   "metadata": {},
   "outputs": [
    {
     "data": {
      "text/plain": [
       "'\\nleft_up    = (-73.111278, 40.872335)\\nright_up   = (-73.099383, 40.872335)\\nleft_down  = (-73.111278, 40.863346)  # here is (0, 0)\\nright_down = (-73.099383, 40.863346)\\ngrid_len   = 10\\nlong_step  = (right_up[0] - left_up[0])/grid_len\\nlat_step   = (right_up[1] - right_down[1])/grid_len\\n\\ntrans_long_lat = []  # in the end, print in (lat, long)\\nfor i in range(grid_len):\\n    for j in range(grid_len):\\n        x = left_down[0] + i*long_step\\n        y = left_down[1] + j*lat_step\\n        trans_long_lat.append((x, y))\\n'"
      ]
     },
     "execution_count": 336,
     "metadata": {},
     "output_type": "execute_result"
    }
   ],
   "source": [
    "'''\n",
    "left_up    = (-73.111278, 40.872335)\n",
    "right_up   = (-73.099383, 40.872335)\n",
    "left_down  = (-73.111278, 40.863346)  # here is (0, 0)\n",
    "right_down = (-73.099383, 40.863346)\n",
    "grid_len   = 10\n",
    "long_step  = (right_up[0] - left_up[0])/grid_len\n",
    "lat_step   = (right_up[1] - right_down[1])/grid_len\n",
    "\n",
    "trans_long_lat = []  # in the end, print in (lat, long)\n",
    "for i in range(grid_len):\n",
    "    for j in range(grid_len):\n",
    "        x = left_down[0] + i*long_step\n",
    "        y = left_down[1] + j*lat_step\n",
    "        trans_long_lat.append((x, y))\n",
    "'''"
   ]
  },
  {
   "cell_type": "code",
   "execution_count": 337,
   "metadata": {},
   "outputs": [
    {
     "data": {
      "text/plain": [
       "\"\\nwith open('lat_long', 'w') as f:\\n    for tran in trans_long_lat:\\n        f.write('{}, {}, {}\\n'.format(tran[1], tran[0], 30.0))\\n\""
      ]
     },
     "execution_count": 337,
     "metadata": {},
     "output_type": "execute_result"
    }
   ],
   "source": [
    "'''\n",
    "with open('lat_long', 'w') as f:\n",
    "    for tran in trans_long_lat:\n",
    "        f.write('{}, {}, {}\\n'.format(tran[1], tran[0], 30.0))\n",
    "'''"
   ]
  },
  {
   "cell_type": "markdown",
   "metadata": {},
   "source": [
    "#### Second, remove the outliers (pathloss < 80)"
   ]
  },
  {
   "cell_type": "code",
   "execution_count": 338,
   "metadata": {
    "scrolled": true
   },
   "outputs": [
    {
     "data": {
      "text/plain": [
       "\"\\ngrid_len = 10\\nhypo_template = 'tx_{}_pathloss.txt'\\nhypo = None\\nfor i in range(1, 101):\\n    filename = hypo_template.format(i)\\n    hypo = pd.read_csv(filename, delimiter=' ', header=None)\\n    flag = False\\n    for j in range(grid_len):\\n        for k in range(grid_len):\\n            if hypo.iloc[j, k] < 84:\\n                print(i, hypo.iloc[j, k])\\n                #flag = True\\n                #print(i, j, hypo.iloc[j, k], end=' --> ')\\n                #hypo.iat[j, k] = 109 + np.random.rand()*2\\n                #print(hypo.iloc[j, k])\\n    #if flag:\\n    #    hypo.to_csv(filename, sep=' ', index=False, header=False)\\n\""
      ]
     },
     "execution_count": 338,
     "metadata": {},
     "output_type": "execute_result"
    }
   ],
   "source": [
    "'''\n",
    "grid_len = 10\n",
    "hypo_template = 'tx_{}_pathloss.txt'\n",
    "hypo = None\n",
    "for i in range(1, 101):\n",
    "    filename = hypo_template.format(i)\n",
    "    hypo = pd.read_csv(filename, delimiter=' ', header=None)\n",
    "    flag = False\n",
    "    for j in range(grid_len):\n",
    "        for k in range(grid_len):\n",
    "            if hypo.iloc[j, k] < 84:\n",
    "                print(i, hypo.iloc[j, k])\n",
    "                #flag = True\n",
    "                #print(i, j, hypo.iloc[j, k], end=' --> ')\n",
    "                #hypo.iat[j, k] = 109 + np.random.rand()*2\n",
    "                #print(hypo.iloc[j, k])\n",
    "    #if flag:\n",
    "    #    hypo.to_csv(filename, sep=' ', index=False, header=False)\n",
    "'''"
   ]
  },
  {
   "cell_type": "markdown",
   "metadata": {},
   "source": [
    "#### Create hypothesis file"
   ]
  },
  {
   "cell_type": "code",
   "execution_count": 339,
   "metadata": {},
   "outputs": [
    {
     "data": {
      "text/plain": [
       "\"\\nsensors = []\\nstd_costs = []\\nwith open('sensors', 'r') as f:\\n    lines = f.readlines()\\n    for line in lines:\\n        line = line.split()\\n        sensors.append((int(line[0]), int(line[1])))\\n        std_costs.append((float(line[2]), int(line[3])))\\n\""
      ]
     },
     "execution_count": 339,
     "metadata": {},
     "output_type": "execute_result"
    }
   ],
   "source": [
    "'''\n",
    "sensors = []\n",
    "std_costs = []\n",
    "with open('sensors', 'r') as f:\n",
    "    lines = f.readlines()\n",
    "    for line in lines:\n",
    "        line = line.split()\n",
    "        sensors.append((int(line[0]), int(line[1])))\n",
    "        std_costs.append((float(line[2]), int(line[3])))\n",
    "'''"
   ]
  },
  {
   "cell_type": "code",
   "execution_count": 340,
   "metadata": {},
   "outputs": [
    {
     "name": "stdout",
     "output_type": "stream",
     "text": [
      "10 20 30 40 50 60 70 80 90 100 "
     ]
    }
   ],
   "source": [
    "grid_len = 10\n",
    "hypo_template = 'tx_{}_pathloss.txt'\n",
    "hypo = None\n",
    "hypothesis_file = open(hypothesis_file ,'w')\n",
    "for i in range(1, 101):\n",
    "    if i%10 == 0:\n",
    "        print(i, end=' ')\n",
    "    hypo = pd.read_csv(hypo_template.format(i), delimiter=' ', header=None)\n",
    "    trans_x = (i-1)//grid_len\n",
    "    trans_y = (i-1)%grid_len\n",
    "    for index, sensor in enumerate(sensors):\n",
    "        sen_x = sensor[0]\n",
    "        sen_y = sensor[1]\n",
    "        std = std_costs[index][0]\n",
    "        mean = 25 - hypo.iloc[sen_y, sen_x]  # cellular tower power - pathloss\n",
    "        print(trans_x, trans_y, sen_x, sen_y, mean, std, file=hypothesis_file)\n",
    "hypothesis_file.close()"
   ]
  },
  {
   "cell_type": "code",
   "execution_count": 3,
   "metadata": {},
   "outputs": [],
   "source": [
    "array = np.ones((4, 4))"
   ]
  },
  {
   "cell_type": "code",
   "execution_count": 4,
   "metadata": {},
   "outputs": [
    {
     "data": {
      "text/plain": [
       "array([[1., 1., 1., 1.],\n",
       "       [1., 1., 1., 1.],\n",
       "       [1., 1., 1., 1.],\n",
       "       [1., 1., 1., 1.]])"
      ]
     },
     "execution_count": 4,
     "metadata": {},
     "output_type": "execute_result"
    }
   ],
   "source": [
    "array"
   ]
  },
  {
   "cell_type": "code",
   "execution_count": 5,
   "metadata": {},
   "outputs": [
    {
     "data": {
      "text/plain": [
       "array([[1.12201845, 1.12201845, 1.12201845, 1.12201845],\n",
       "       [1.12201845, 1.12201845, 1.12201845, 1.12201845],\n",
       "       [1.12201845, 1.12201845, 1.12201845, 1.12201845],\n",
       "       [1.12201845, 1.12201845, 1.12201845, 1.12201845]])"
      ]
     },
     "execution_count": 5,
     "metadata": {},
     "output_type": "execute_result"
    }
   ],
   "source": [
    "np.power(10, np.array(array)/20)"
   ]
  },
  {
   "cell_type": "code",
   "execution_count": null,
   "metadata": {},
   "outputs": [],
   "source": []
  }
 ],
 "metadata": {
  "kernelspec": {
   "display_name": "Python 3",
   "language": "python",
   "name": "python3"
  },
  "language_info": {
   "codemirror_mode": {
    "name": "ipython",
    "version": 3
   },
   "file_extension": ".py",
   "mimetype": "text/x-python",
   "name": "python",
   "nbconvert_exporter": "python",
   "pygments_lexer": "ipython3",
   "version": "3.6.5"
  }
 },
 "nbformat": 4,
 "nbformat_minor": 2
}
