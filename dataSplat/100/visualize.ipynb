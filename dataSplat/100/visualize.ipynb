{
 "cells": [
  {
   "cell_type": "code",
   "execution_count": 1,
   "metadata": {},
   "outputs": [],
   "source": [
    "import random\n",
    "import numpy as np\n",
    "import seaborn as sns\n",
    "import math\n",
    "import os\n",
    "import time\n",
    "import matplotlib.pyplot as plt\n",
    "import pandas as pd\n",
    "from scipy.stats import multivariate_normal\n",
    "from scipy.stats import norm, entropy\n",
    "from sklearn.cluster import KMeans\n",
    "%matplotlib inline"
   ]
  },
  {
   "cell_type": "code",
   "execution_count": 2,
   "metadata": {},
   "outputs": [
    {
     "name": "stdout",
     "output_type": "stream",
     "text": [
      "0 -68.04851587 -- 0.646292815719645\n",
      "1 -64.65990114 -- 1.0\n",
      "2 -74.24018359 -- 0.0\n",
      "3 -71.02574337 -- 0.3355266649784423\n",
      "4 -71.1803093 -- 0.3193929099658222\n",
      "5 -70.67351713 -- 0.37229241190065415\n",
      "6 -72.89913813 -- 0.13997974141148667\n",
      "7 -70.65461458 -- 0.3742654800328983\n",
      "8 -71.49046832 -- 0.2870181838949849\n",
      "9 -72.63432175 -- 0.1676215548321337\n",
      "10 -70.89410727 -- 0.34926698011915036\n",
      "11 -67.32704612 -- 0.7216005901788414\n",
      "12 -68.9454275 -- 0.5526722325394496\n",
      "13 -71.62344438 -- 0.273138002314327\n",
      "14 -67.10248095 -- 0.7450409397898285\n",
      "15 -72.81584615 -- 0.14867384624970034\n",
      "16 -71.9437302 -- 0.23970623016443496\n",
      "17 -71.21912385 -- 0.3153414062442385\n",
      "18 -71.97595916 -- 0.23634213728218412\n",
      "19 -72.13806524 -- 0.21942133344930745\n"
     ]
    },
    {
     "data": {
      "image/png": "[encoded data removed]",
      "text/plain": [
       "<Figure size 576x576 with 2 Axes>"
      ]
     },
     "metadata": {},
     "output_type": "display_data"
    }
   ],
   "source": [
    "grid_len = 10\n",
    "intruders = [(0, 9), (9, 9), (5, 0)]\n",
    "sensor_output = [-68.04851587, -64.65990114, -74.24018359, -71.02574337, -71.1803093,\n",
    " -70.67351713, -72.89913813, -70.65461458, -71.49046832, -72.63432175,\n",
    " -70.89410727, -67.32704612, -68.9454275 , -71.62344438, -67.10248095,\n",
    " -72.81584615, -71.9437302 , -71.21912385, -71.97595916, -72.13806524]\n",
    "sensors = [(7, 9),(9, 7),(0, 1),(3, 9),(5, 6),(5, 8),(1, 1),(2, 0),(5, 5),(9, 4),(5, 9),(4, 2),(2, 7),(3, 5),(3, 1),(8, 3),(7, 3),(6, 5),(2, 3),(1, 4)]\n",
    "\n",
    "grid = np.zeros((grid_len, grid_len))\n",
    "maximum = np.max(sensor_output)\n",
    "minimum = np.min(sensor_output)\n",
    "for index, sensor in enumerate(sensors):\n",
    "    color = (sensor_output[index] - minimum) / (maximum - minimum)\n",
    "    grid[sensor[0]][sensor[1]] = color\n",
    "    print(index, sensor_output[index], '--', color)\n",
    "for intr in intruders:\n",
    "    grid[intr[0]][intr[1]] = -1\n",
    "    \n",
    "sns.set(style=\"white\")\n",
    "\n",
    "# Set up the matplotlib figure\n",
    "f, ax = plt.subplots(figsize=(8, 8))\n",
    "\n",
    "# Generate a custom diverging colormap\n",
    "cmap = sns.diverging_palette(220, 10, as_cmap=True)\n",
    "\n",
    "# Draw the heatmap with the mask and correct aspect ratio\n",
    "sns.heatmap(grid, cmap=cmap, center=0,\n",
    "            square=True, linewidth=1, cbar_kws={\"shrink\": .5})\n",
    "\n",
    "plt.show()"
   ]
  },
  {
   "cell_type": "code",
   "execution_count": 12,
   "metadata": {},
   "outputs": [
    {
     "name": "stdout",
     "output_type": "stream",
     "text": [
      "(7, 9) -69.68701811 -- 0\n",
      "(9, 7) -70.04069849 -- 0\n",
      "(0, 1) -71.9299942 -- 0\n",
      "(3, 9) -73.5833492 -- 0\n",
      "(5, 6) -63.09238231 -- 0.7325809042879856\n",
      "(5, 8) -68.4299345 -- 0\n",
      "(1, 1) -70.28922635 -- 0\n",
      "(2, 0) -67.5562826 -- 0\n",
      "(5, 5) -65.48050676 -- 0\n",
      "(9, 4) -69.924485 -- 0\n",
      "(5, 9) -69.68084369 -- 0\n",
      "(4, 2) -61.26483488 -- 0.8601979640820405\n",
      "(2, 7) -73.35248314 -- 0\n",
      "(3, 5) -70.34719057 -- 0\n",
      "(3, 1) -59.2627918 -- 1.0\n",
      "(8, 3) -68.10065083 -- 0\n",
      "(7, 3) -67.51979584 -- 0\n",
      "(6, 5) -62.340319 -- 0.7850972476811553\n",
      "(2, 3) -69.39132478 -- 0\n",
      "(1, 4) -72.45761138 -- 0\n"
     ]
    },
    {
     "data": {
      "image/png": "[encoded data removed]",
      "text/plain": [
       "<Figure size 576x576 with 2 Axes>"
      ]
     },
     "metadata": {},
     "output_type": "display_data"
    }
   ],
   "source": [
    "grid_len = 10\n",
    "intruders = [(9, 0), (7, 7), (4, 1)]\n",
    "sensor_output = [-69.68701811, -70.04069849, -71.9299942 , -73.5833492 , -63.09238231,\n",
    " -68.4299345 ,   -70.28922635, -67.5562826 , -65.48050676, -69.924485,\n",
    " -69.68084369,   -61.26483488, -73.35248314, -70.34719057, -59.2627918,\n",
    " -68.10065083,   -67.51979584, -62.340319  , -69.39132478, -72.45761138,]\n",
    "sensors = [(7, 9),(9, 7),(0, 1),(3, 9),(5, 6),(5, 8),(1, 1),(2, 0),(5, 5),(9, 4),(5, 9),(4, 2),(2, 7),(3, 5),(3, 1),(8, 3),(7, 3),(6, 5),(2, 3),(1, 4)]\n",
    "\n",
    "grid = np.zeros((grid_len, grid_len))\n",
    "maximum = np.max(sensor_output)\n",
    "minimum = np.min(sensor_output)\n",
    "threshold = -65\n",
    "sensor_to_cluster = []\n",
    "for index, sensor in enumerate(sensors):\n",
    "    if sensor_output[index] > threshold:\n",
    "        color = (sensor_output[index] - minimum) / (maximum - minimum)\n",
    "        sensor_to_cluster.append(sensor)\n",
    "    else:\n",
    "        color = 0\n",
    "    grid[sensor[0]][sensor[1]] = color\n",
    "    print((sensor[0], sensor[1]), sensor_output[index], '--', color)\n",
    "for intr in intruders:\n",
    "    grid[intr[0]][intr[1]] = -1\n",
    "    \n",
    "sns.set(style=\"white\")\n",
    "\n",
    "# Set up the matplotlib figure\n",
    "f, ax = plt.subplots(figsize=(8, 8))\n",
    "\n",
    "# Generate a custom diverging colormap\n",
    "cmap = sns.diverging_palette(220, 10, as_cmap=True)\n",
    "\n",
    "# Draw the heatmap with the mask and correct aspect ratio\n",
    "sns.heatmap(grid, cmap=cmap, center=0,\n",
    "            square=True, linewidth=1, cbar_kws={\"shrink\": .5})\n",
    "\n",
    "plt.show()"
   ]
  },
  {
   "cell_type": "code",
   "execution_count": 13,
   "metadata": {},
   "outputs": [],
   "source": [
    "kmeans = KMeans(n_clusters=2).fit(sensor_to_cluster)\n",
    "localize = kmeans.cluster_centers_"
   ]
  },
  {
   "cell_type": "code",
   "execution_count": 14,
   "metadata": {
    "scrolled": true
   },
   "outputs": [
    {
     "name": "stdout",
     "output_type": "stream",
     "text": [
      "[3.5 1.5] [4. 2.]\n",
      "[5.5 5.5] [6. 6.]\n"
     ]
    }
   ],
   "source": [
    "for i in range(len(localize)):\n",
    "    print(localize[i], end=' ')\n",
    "    localize[i][0] = round(localize[i][0])\n",
    "    localize[i][1] = round(localize[i][1])\n",
    "    print(localize[i])"
   ]
  },
  {
   "cell_type": "code",
   "execution_count": 16,
   "metadata": {},
   "outputs": [
    {
     "data": {
      "text/plain": [
       "2.0"
      ]
     },
     "execution_count": 16,
     "metadata": {},
     "output_type": "execute_result"
    }
   ],
   "source": [
    "kmeans.inertia_"
   ]
  },
  {
   "cell_type": "code",
   "execution_count": 29,
   "metadata": {},
   "outputs": [
    {
     "name": "stdout",
     "output_type": "stream",
     "text": [
      "2 2.0 [[4. 2.]\n",
      " [6. 6.]]\n",
      "\n"
     ]
    }
   ],
   "source": [
    "for k in range(2, 3):\n",
    "    kmeans = KMeans(n_clusters=k).fit(sensor_to_cluster)\n",
    "    localize = kmeans.cluster_centers_\n",
    "    for i in range(len(localize)):\n",
    "        localize[i][0] = round(localize[i][0])\n",
    "        localize[i][1] = round(localize[i][1])\n",
    "    print(k, kmeans.inertia_, localize, end='\\n\\n')"
   ]
  },
  {
   "cell_type": "code",
   "execution_count": 30,
   "metadata": {},
   "outputs": [
    {
     "data": {
      "text/plain": [
       "array([1, 0, 0, 1], dtype=int32)"
      ]
     },
     "execution_count": 30,
     "metadata": {},
     "output_type": "execute_result"
    }
   ],
   "source": [
    "kmeans.labels_"
   ]
  },
  {
   "cell_type": "code",
   "execution_count": 1,
   "metadata": {},
   "outputs": [],
   "source": [
    "k = [0.015508741339256931, 0.019535317031721088, 0.022103046446463537, 0.023270535303999338, 0.011639204230541008, 0.017340198666380074, 0.012794230422625527, 0.018555912502468987, 0.02076120980610617, 0.011071688788925144, 0.010334526526941962, 0.022899387670856784, 0.022468408805635887,0.021742502130950185, 0.014215929482065614]"
   ]
  },
  {
   "cell_type": "code",
   "execution_count": 2,
   "metadata": {},
   "outputs": [
    {
     "data": {
      "text/plain": [
       "0.01761605594366255"
      ]
     },
     "execution_count": 2,
     "metadata": {},
     "output_type": "execute_result"
    }
   ],
   "source": [
    "sum(k)/15"
   ]
  },
  {
   "cell_type": "code",
   "execution_count": null,
   "metadata": {},
   "outputs": [],
   "source": []
  }
 ],
 "metadata": {
  "kernelspec": {
   "display_name": "Python 3",
   "language": "python",
   "name": "python3"
  },
  "language_info": {
   "codemirror_mode": {
    "name": "ipython",
    "version": 3
   },
   "file_extension": ".py",
   "mimetype": "text/x-python",
   "name": "python",
   "nbconvert_exporter": "python",
   "pygments_lexer": "ipython3",
   "version": "3.6.5"
  }
 },
 "nbformat": 4,
 "nbformat_minor": 2
}
